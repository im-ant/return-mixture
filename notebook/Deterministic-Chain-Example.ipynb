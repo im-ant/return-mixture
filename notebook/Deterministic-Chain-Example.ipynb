{
 "cells": [
  {
   "cell_type": "markdown",
   "id": "9aa8bd46",
   "metadata": {},
   "source": [
    "# Determinstic Chain Example\n",
    "\n",
    "Self-contained example of the $\\eta$-return mixture for prediction in a determinstic chain"
   ]
  },
  {
   "cell_type": "code",
   "execution_count": 1,
   "id": "cb03a696",
   "metadata": {},
   "outputs": [],
   "source": [
    "import numpy as np\n",
    "import pandas as pd\n",
    "import matplotlib.pyplot as plt\n",
    "import seaborn as sns"
   ]
  },
  {
   "cell_type": "markdown",
   "id": "22b82825",
   "metadata": {},
   "source": [
    "## Set up \n",
    "### Environment MRP"
   ]
  },
  {
   "cell_type": "code",
   "execution_count": 2,
   "id": "722fbaa1",
   "metadata": {},
   "outputs": [],
   "source": [
    "class LinearChainMRP:\n",
    "    def __init__(self, n_states=8):\n",
    "        self.n_states = n_states\n",
    "        self.state = 0\n",
    "    \n",
    "    def step(self):\n",
    "        reward = 0.0\n",
    "        done = False\n",
    "        \n",
    "        if self.state == (self.n_states-1):\n",
    "            done = True\n",
    "            reward = 1.0\n",
    "        else:\n",
    "            self.state += 1\n",
    "                    \n",
    "        return self.state, reward, done\n",
    "    \n",
    "    def reset(self):\n",
    "        self.state = 0\n",
    "        return self.state"
   ]
  },
  {
   "cell_type": "markdown",
   "id": "9f8e8a4c",
   "metadata": {},
   "source": [
    "### Learners"
   ]
  },
  {
   "cell_type": "code",
   "execution_count": 3,
   "id": "05cb4d23",
   "metadata": {},
   "outputs": [],
   "source": [
    "def np_one_hot(dim, idx):\n",
    "    \"\"\"Create a one-hot vector\"\"\"\n",
    "    vec = np.zeros(dim)\n",
    "    vec[idx] = 1.0\n",
    "    return vec\n",
    "\n",
    "class ValueFunctionBase:\n",
    "    def __init__(self, n_states=8, gamma=0.99, lr=0.1):\n",
    "        self.n_states = n_states\n",
    "        self.prev_state = None\n",
    "        self.gamma = gamma\n",
    "        self.lr = lr\n",
    "    \n",
    "    def begin_episode(self, state):\n",
    "        self.prev_state = state\n",
    "    \n",
    "    def step(self, state, reward, done):\n",
    "        pass\n",
    "        \n",
    "    \n",
    "class MFValue(ValueFunctionBase):\n",
    "    def __init__(self, n_states=8, gamma=0.99, lr=0.1):\n",
    "        super().__init__(n_states, gamma, lr)\n",
    "        self.theta = np.zeros(n_states)\n",
    "    \n",
    "    def step(self, state, reward, done):\n",
    "        # Target and update\n",
    "        prev_target = reward + ((1 - done) * \n",
    "                                self.gamma * self.theta[state])\n",
    "        theta_delta = prev_target - self.theta[self.prev_state]\n",
    "        self.theta[self.prev_state] += self.lr * theta_delta\n",
    "        \n",
    "        # Continue\n",
    "        self.prev_state = state\n",
    "\n",
    "class SFValue(ValueFunctionBase):\n",
    "    def __init__(self, n_states=8, gamma=0.99, lr=0.1):\n",
    "        super().__init__(n_states, gamma, lr)\n",
    "        self.psi = np.identity(n_states)\n",
    "        self.w = np.zeros(n_states)\n",
    "        self.theta = np.zeros(n_states)  # dummy variable to be combined\n",
    "    \n",
    "    def step(self, state, reward, done):\n",
    "        # SR lesarning\n",
    "        prev_phi = np_one_hot(self.n_states, self.prev_state)        \n",
    "        target = prev_phi + ((1 - done) * \n",
    "                             self.gamma * self.psi[state])\n",
    "        sf_delta = target - self.psi[self.prev_state]\n",
    "        self.psi[self.prev_state] += self.lr * sf_delta\n",
    "        \n",
    "        # Reward learning\n",
    "        r_delta = reward - self.w[self.prev_state]\n",
    "        self.w[self.prev_state] += self.lr * r_delta\n",
    "        \n",
    "        self.theta = self.psi @ self.w\n",
    "        \n",
    "        # Continue\n",
    "        self.prev_state = state\n",
    "        \n",
    "class LambdaValue(ValueFunctionBase):\n",
    "    def __init__(self, n_states=8, gamma=0.99, lr=0.1, lamb=0.0):\n",
    "        super().__init__(n_states, gamma, lr)\n",
    "        self.lamb = lamb\n",
    "        self.theta = np.zeros(n_states)\n",
    "        self.psi = np.identity(n_states)\n",
    "        self.w = np.zeros(n_states)\n",
    "    \n",
    "    def step(self, state, reward, done):\n",
    "        # SR lesarning\n",
    "        prev_phi = np_one_hot(self.n_states, self.prev_state)        \n",
    "        target = prev_phi + ((1 - done) * \n",
    "                             self.gamma * self.lamb * self.psi[state])\n",
    "        sf_delta = target - self.psi[self.prev_state]\n",
    "        self.psi[self.prev_state] += self.lr * sf_delta\n",
    "        \n",
    "        # Reward learning\n",
    "        r_delta = reward - self.w[self.prev_state]\n",
    "        self.w[self.prev_state] += self.lr * r_delta\n",
    "        \n",
    "        # Value learning\n",
    "        v_vec = self.psi @ (\n",
    "            ((1-self.lamb) * self.theta) + (self.lamb * self.w)\n",
    "        )\n",
    "        v_target = reward + ((1-done) * self.gamma * v_vec[state])\n",
    "        v_delta = v_target - self.theta[self.prev_state]\n",
    "        self.theta[self.prev_state] += self.lr * v_delta\n",
    "        \n",
    "        # Continue\n",
    "        self.prev_state = state\n",
    "    "
   ]
  },
  {
   "cell_type": "markdown",
   "id": "8a69cfba",
   "metadata": {},
   "source": [
    "### Trainer"
   ]
  },
  {
   "cell_type": "code",
   "execution_count": 4,
   "id": "2e913e8e",
   "metadata": {
    "scrolled": false
   },
   "outputs": [],
   "source": [
    "def train_value(env, learner, num_episodes=3):\n",
    "    \"\"\"\n",
    "    Method to run a learner in an environment\n",
    "    \"\"\"\n",
    "    out_dict = {\n",
    "        'theta': [],\n",
    "        'psi': [],\n",
    "        'w': [],\n",
    "    }\n",
    "    \n",
    "    for episode_idx in range(num_episodes):\n",
    "        s = env.reset()\n",
    "        learner.begin_episode(s)\n",
    "        \n",
    "        done = False\n",
    "        while not done:\n",
    "            s, reward, done = env.step()\n",
    "            learner.step(s, reward, done)\n",
    "        \n",
    "        # store\n",
    "        if hasattr(learner, 'theta'):\n",
    "            out_dict['theta'].append(np.copy(learner.theta))\n",
    "        if hasattr(learner, 'psi'):\n",
    "            out_dict['psi'].append(np.copy(learner.psi))\n",
    "        if hasattr(learner, 'w'):\n",
    "            out_dict['w'].append(np.copy(learner.w))\n",
    "    \n",
    "    return out_dict"
   ]
  },
  {
   "cell_type": "markdown",
   "id": "fadb9e91",
   "metadata": {},
   "source": [
    "## Experiment"
   ]
  },
  {
   "cell_type": "markdown",
   "id": "799d4707",
   "metadata": {},
   "source": [
    "#### Run experiment"
   ]
  },
  {
   "cell_type": "code",
   "execution_count": 5,
   "id": "375820da",
   "metadata": {},
   "outputs": [
    {
     "name": "stdout",
     "output_type": "stream",
     "text": [
      "mf dict_keys(['theta', 'psi', 'w'])\n",
      "sf dict_keys(['theta', 'psi', 'w'])\n",
      "lvf_2 dict_keys(['theta', 'psi', 'w'])\n",
      "lvf_5 dict_keys(['theta', 'psi', 'w'])\n",
      "lvf_7 dict_keys(['theta', 'psi', 'w'])\n",
      "lvf_9 dict_keys(['theta', 'psi', 'w'])\n"
     ]
    }
   ],
   "source": [
    "Num_states = 16\n",
    "Num_episodes = 20\n",
    "Gamma = 0.9999\n",
    "Lr = 1.0\n",
    "    \n",
    "def run_experiment():\n",
    "    \n",
    "    sf_lambda = 0.5\n",
    "    \n",
    "    # Agent learners\n",
    "    learner_dict = {\n",
    "        'mf': MFValue(n_states=Num_states, gamma=Gamma, lr=Lr),\n",
    "        'sf': SFValue(n_states=Num_states, gamma=Gamma, lr=Lr),\n",
    "        'lvf_2': LambdaValue(n_states=Num_states, gamma=Gamma, lr=Lr, lamb=0.2),\n",
    "        'lvf_5': LambdaValue(n_states=Num_states, gamma=Gamma, lr=Lr, lamb=0.5),\n",
    "        'lvf_7': LambdaValue(n_states=Num_states, gamma=Gamma, lr=Lr, lamb=0.7),\n",
    "        'lvf_9': LambdaValue(n_states=Num_states, gamma=Gamma, lr=Lr, lamb=0.9),\n",
    "    }\n",
    "    \n",
    "    # Environment\n",
    "    env = LinearChainMRP(n_states=Num_states)\n",
    "    \n",
    "    # Train\n",
    "    data_dict = {}\n",
    "    for k in learner_dict:\n",
    "        cur_learner = learner_dict[k]\n",
    "        cur_out = train_value(env, cur_learner, \n",
    "                              num_episodes=Num_episodes)\n",
    "        \n",
    "        data_dict[k] = cur_out\n",
    "        print(k, data_dict[k].keys())\n",
    "    \n",
    "    return data_dict\n",
    "        \n",
    "exp_dict = run_experiment()"
   ]
  },
  {
   "cell_type": "markdown",
   "id": "d8993938",
   "metadata": {},
   "source": [
    "### Visualize"
   ]
  },
  {
   "cell_type": "code",
   "execution_count": 6,
   "id": "3204a922",
   "metadata": {},
   "outputs": [
    {
     "name": "stdout",
     "output_type": "stream",
     "text": [
      "mf\n",
      "lvf_7\n",
      "sf\n"
     ]
    },
    {
     "data": {
      "text/plain": [
       "<Figure size 720x201.6 with 0 Axes>"
      ]
     },
     "metadata": {},
     "output_type": "display_data"
    },
    {
     "data": {
      "image/png": "[encoded data removed]",
      "text/plain": [
       "<Figure size 432x288 with 4 Axes>"
      ]
     },
     "metadata": {
      "needs_background": "light"
     },
     "output_type": "display_data"
    }
   ],
   "source": [
    "from mpl_toolkits.axes_grid1 import make_axes_locatable\n",
    "\n",
    "def script_plt_all_thetas(in_dict):\n",
    "    only_include = ['mf', 'lvf_7', 'sf']\n",
    "    \n",
    "    title_list = ['$\\eta$ = 0', '$\\eta$ = 0.7', '$\\eta$ = 1.0']\n",
    "    \n",
    "    plt.figure(figsize=((10, 2.8)))\n",
    "    subplt_counter = 1\n",
    "    \n",
    "    fig, axes = plt.subplots(nrows=1, ncols=len(only_include))\n",
    "    for idx, ax in enumerate(axes.flat):\n",
    "        cur_ax_key = only_include[idx]\n",
    "        \n",
    "        im = ax.imshow(in_dict[cur_ax_key]['theta'], \n",
    "                       cmap='magma',\n",
    "                       vmin=0.0, vmax=1.0)\n",
    "        \n",
    "        print(cur_ax_key)\n",
    "        ax.title.set_text(title_list[idx])\n",
    "        if subplt_counter == 1:\n",
    "            ax.set_ylabel('Episodes')\n",
    "            cur_yticks = np.arange(Num_episodes, step=4)\n",
    "            ax.set_yticks(cur_yticks)\n",
    "        else:\n",
    "            ax.set_ylabel('')\n",
    "            ax.set_yticks([])\n",
    "            \n",
    "        ax.set_xlabel('States')\n",
    "        \n",
    "        subplt_counter += 1\n",
    "    \n",
    "    fig.subplots_adjust(right=0.8)\n",
    "    #cbar_ax = fig.add_axes([0.85, 0.15, 0.05, 0.7])\n",
    "    cbar_ax = fig.add_axes([ax.get_position().x1+0.01,ax.get_position().y0,0.02,ax.get_position().height])\n",
    "\n",
    "    fig.colorbar(im, cax=cbar_ax) \n",
    "    \n",
    "    return fig\n",
    "    \n",
    "\n",
    "plt.rc('text', usetex=True)\n",
    "plt.rc('font', **{'family': 'serif', 'serif': ['Times'], 'size': 15})\n",
    "\n",
    "cur_prop_fig = script_plt_all_thetas(exp_dict)\n",
    "\n",
    "# cur_prop_fig.savefig('./path_out_chain.pdf', bbox_inches=\"tight\")"
   ]
  },
  {
   "cell_type": "code",
   "execution_count": 7,
   "id": "29cf5f87",
   "metadata": {},
   "outputs": [
    {
     "data": {
      "text/html": [
       "<svg  width=\"550\" height=\"55\"><rect x=\"0\" y=\"0\" width=\"55\" height=\"55\" style=\"fill:#0173b2;stroke-width:2;stroke:rgb(255,255,255)\"/><rect x=\"55\" y=\"0\" width=\"55\" height=\"55\" style=\"fill:#de8f05;stroke-width:2;stroke:rgb(255,255,255)\"/><rect x=\"110\" y=\"0\" width=\"55\" height=\"55\" style=\"fill:#029e73;stroke-width:2;stroke:rgb(255,255,255)\"/><rect x=\"165\" y=\"0\" width=\"55\" height=\"55\" style=\"fill:#d55e00;stroke-width:2;stroke:rgb(255,255,255)\"/><rect x=\"220\" y=\"0\" width=\"55\" height=\"55\" style=\"fill:#cc78bc;stroke-width:2;stroke:rgb(255,255,255)\"/><rect x=\"275\" y=\"0\" width=\"55\" height=\"55\" style=\"fill:#ca9161;stroke-width:2;stroke:rgb(255,255,255)\"/><rect x=\"330\" y=\"0\" width=\"55\" height=\"55\" style=\"fill:#fbafe4;stroke-width:2;stroke:rgb(255,255,255)\"/><rect x=\"385\" y=\"0\" width=\"55\" height=\"55\" style=\"fill:#949494;stroke-width:2;stroke:rgb(255,255,255)\"/><rect x=\"440\" y=\"0\" width=\"55\" height=\"55\" style=\"fill:#ece133;stroke-width:2;stroke:rgb(255,255,255)\"/><rect x=\"495\" y=\"0\" width=\"55\" height=\"55\" style=\"fill:#56b4e9;stroke-width:2;stroke:rgb(255,255,255)\"/></svg>"
      ],
      "text/plain": [
       "[(0.00392156862745098, 0.45098039215686275, 0.6980392156862745),\n",
       " (0.8705882352941177, 0.5607843137254902, 0.0196078431372549),\n",
       " (0.00784313725490196, 0.6196078431372549, 0.45098039215686275),\n",
       " (0.8352941176470589, 0.3686274509803922, 0.0),\n",
       " (0.8, 0.47058823529411764, 0.7372549019607844),\n",
       " (0.792156862745098, 0.5686274509803921, 0.3803921568627451),\n",
       " (0.984313725490196, 0.6862745098039216, 0.8941176470588236),\n",
       " (0.5803921568627451, 0.5803921568627451, 0.5803921568627451),\n",
       " (0.9254901960784314, 0.8823529411764706, 0.2),\n",
       " (0.33725490196078434, 0.7058823529411765, 0.9137254901960784)]"
      ]
     },
     "execution_count": 7,
     "metadata": {},
     "output_type": "execute_result"
    }
   ],
   "source": [
    "sns.color_palette(\"colorblind\", 10)"
   ]
  },
  {
   "cell_type": "code",
   "execution_count": 8,
   "id": "2493259b",
   "metadata": {},
   "outputs": [
    {
     "name": "stdout",
     "output_type": "stream",
     "text": [
      "mf 0.0\n",
      "lvf_7 0.7\n",
      "sf 1.0\n"
     ]
    },
    {
     "data": {
      "image/png": "[encoded data removed]",
      "text/plain": [
       "<Figure size 273.6x201.6 with 1 Axes>"
      ]
     },
     "metadata": {
      "needs_background": "light"
     },
     "output_type": "display_data"
    }
   ],
   "source": [
    "def script_plt_all_errors(in_dict):    \n",
    "    ag_k_list = ['mf', 'lvf_7', 'sf']  # learner keys \n",
    "    ag_k_float_lambda = [0.0, 0.7, 1.0]  # NOTE: correspond to above\n",
    "    \n",
    "    # Make true value vector\n",
    "    true_v = np.zeros(Num_states)\n",
    "    true_v[-1] = 1.0\n",
    "    for i in reversed(range((Num_states-1))):\n",
    "        true_v[i] = Gamma * true_v[i+1]\n",
    "        \n",
    "    # Colors\n",
    "    c10pal = sns.color_palette(\"colorblind\", 10)\n",
    "    cmapping_keylist = [0.0, 0.3, 0.5, 0.7, 0.9, 0.99, 1.0]\n",
    "    cmapping_colidxs = [7, 1, 2, 3, 4, 6, 9]\n",
    "    cmapping = {cmapping_keylist[i]: cmapping_colidxs[i] \n",
    "                for i in range(len(cmapping_keylist))}\n",
    "    \n",
    "    # Plot error\n",
    "    plt.figure(figsize=(3.8,2.8))\n",
    "    lege_list = []\n",
    "    for i, ag_k in enumerate(ag_k_list):\n",
    "        delta_vec = in_dict[ag_k]['theta'] - true_v\n",
    "        err = np.linalg.norm(delta_vec, ord=np.inf, \n",
    "                             axis=1)\n",
    "        \n",
    "        # Current lambda and color\n",
    "        cur_lamb = ag_k_float_lambda[i]\n",
    "        cur_col = c10pal[cmapping[cur_lamb]]\n",
    "        # \n",
    "        plt.plot(err, color=cur_col)\n",
    "        print(ag_k, cur_lamb)\n",
    "        \n",
    "        lege_list.append(ag_k)\n",
    "        \n",
    "    # plt.title('Inf Norm Error')\n",
    "    lege_list = ['$\\eta$ = 0 (MF)', '$\\eta$ = 0.7', '$\\eta$ = 1 (full SF)']\n",
    "    plt.legend(lege_list, loc='lower left', fontsize=13)\n",
    "    \n",
    "    plt.ylabel('max\\{abs state error\\}')\n",
    "    plt.xlabel('Episodes')\n",
    "    cur_xticks = np.arange(Num_episodes, step=4)\n",
    "    plt.xticks(cur_xticks, cur_xticks)\n",
    "    \n",
    "\n",
    "plt.rc('text', usetex=True)\n",
    "plt.rc('font', **{'family': 'serif', 'serif': ['Times'], 'size': 15})\n",
    "\n",
    "\n",
    "script_plt_all_errors(exp_dict)\n",
    "# plt.savefig('./path_out.pgf', bbox_inches=\"tight\")"
   ]
  },
  {
   "cell_type": "code",
   "execution_count": 9,
   "id": "191ce29f",
   "metadata": {},
   "outputs": [
    {
     "name": "stdout",
     "output_type": "stream",
     "text": [
      "Agent: mf, Param: theta, 0.9985010495451367\n"
     ]
    },
    {
     "data": {
      "image/png": "[encoded data removed]",
      "text/plain": [
       "<Figure size 216x144 with 1 Axes>"
      ]
     },
     "metadata": {},
     "output_type": "display_data"
    },
    {
     "name": "stdout",
     "output_type": "stream",
     "text": [
      "Agent: sf, Param: theta, 0.9985010495451367\n"
     ]
    },
    {
     "data": {
      "image/png": "[encoded data removed]",
      "text/plain": [
       "<Figure size 216x144 with 1 Axes>"
      ]
     },
     "metadata": {},
     "output_type": "display_data"
    },
    {
     "name": "stdout",
     "output_type": "stream",
     "text": [
      "Agent: sf, Param: w\n"
     ]
    },
    {
     "data": {
      "image/png": "[encoded data removed]",
      "text/plain": [
       "<Figure size 216x144 with 1 Axes>"
      ]
     },
     "metadata": {},
     "output_type": "display_data"
    },
    {
     "name": "stdout",
     "output_type": "stream",
     "text": [
      "Agent: sf, Param: psi\n"
     ]
    },
    {
     "data": {
      "image/png": "[encoded data removed]",
      "text/plain": [
       "<Figure size 216x144 with 1 Axes>"
      ]
     },
     "metadata": {},
     "output_type": "display_data"
    },
    {
     "name": "stdout",
     "output_type": "stream",
     "text": [
      "Agent: lvf_7, Param: theta, 0.9985010495451365\n"
     ]
    },
    {
     "data": {
      "image/png": "[encoded data removed]",
      "text/plain": [
       "<Figure size 216x144 with 1 Axes>"
      ]
     },
     "metadata": {},
     "output_type": "display_data"
    },
    {
     "name": "stdout",
     "output_type": "stream",
     "text": [
      "Agent: lvf_7, Param: w\n"
     ]
    },
    {
     "data": {
      "image/png": "[encoded data removed]",
      "text/plain": [
       "<Figure size 216x144 with 1 Axes>"
      ]
     },
     "metadata": {},
     "output_type": "display_data"
    },
    {
     "name": "stdout",
     "output_type": "stream",
     "text": [
      "Agent: lvf_7, Param: psi\n"
     ]
    },
    {
     "data": {
      "image/png": "[encoded data removed]",
      "text/plain": [
       "<Figure size 216x144 with 1 Axes>"
      ]
     },
     "metadata": {},
     "output_type": "display_data"
    }
   ],
   "source": [
    "def script_get_vectors(in_dict, epis_idx):\n",
    "    \n",
    "    param_k_list = ['theta', 'w', 'psi']  # parameters to see\n",
    "    ag_k_list = ['mf', 'sf', 'lvf_7']  # learner keys \n",
    "    \n",
    "    for ag_k in in_dict:\n",
    "        # Check\n",
    "        if ag_k not in ag_k_list:\n",
    "            continue\n",
    "        for param_k in param_k_list:\n",
    "            # Check\n",
    "            if not param_k in in_dict[ag_k]:\n",
    "                continue\n",
    "            if len(in_dict[ag_k][param_k]) == 0:\n",
    "                continue\n",
    "            \n",
    "            # Get the parameters\n",
    "            cur_param = in_dict[ag_k][param_k]\n",
    "            cur_epis_param = cur_param[epis_idx]\n",
    "            \n",
    "            if len(np.shape(cur_epis_param)) == 1:\n",
    "                cur_epis_param = np.expand_dims(\n",
    "                    cur_epis_param, 0)\n",
    "            elif len(np.shape(cur_epis_param)) == 2:\n",
    "                cur_epis_param = cur_epis_param[0:1, :]\n",
    "            else:\n",
    "                raise Exception('This is unexpected')\n",
    "            \n",
    "            info_str = f'Agent: {ag_k}, Param: {param_k}'\n",
    "            if param_k == 'theta':\n",
    "                info_str += f', {cur_epis_param[0,0]}'\n",
    "            print(info_str)\n",
    "            \n",
    "            plt.figure(figsize=(3,2))\n",
    "            plt.imshow(cur_epis_param, \n",
    "                       cmap='cividis',\n",
    "                       vmin=0.0, vmax=1.0)\n",
    "            plt.xticks([])\n",
    "            plt.yticks([])\n",
    "            plt.show()\n",
    "\n",
    "script_get_vectors(exp_dict, 16)"
   ]
  },
  {
   "cell_type": "markdown",
   "id": "285e9d11",
   "metadata": {},
   "source": [
    "$\\phi (S = 0)$ without SF"
   ]
  },
  {
   "cell_type": "code",
   "execution_count": 10,
   "id": "a43a3da4",
   "metadata": {},
   "outputs": [
    {
     "data": {
      "image/png": "[encoded data removed]",
      "text/plain": [
       "<Figure size 216x144 with 1 Axes>"
      ]
     },
     "metadata": {},
     "output_type": "display_data"
    }
   ],
   "source": [
    "def script_plt_phi_s0():\n",
    "    phi_s0 = np.zeros((1, Num_states))\n",
    "    phi_s0[0,0] = 1.0\n",
    "    \n",
    "    plt.figure(figsize=(3,2))\n",
    "    plt.imshow(phi_s0, \n",
    "               cmap='cividis',\n",
    "               vmin=0.0, vmax=1.0)\n",
    "    plt.xticks([])\n",
    "    plt.yticks([])\n",
    "    plt.show()\n",
    "script_plt_phi_s0()"
   ]
  },
  {
   "cell_type": "code",
   "execution_count": 11,
   "id": "bc5dd49c",
   "metadata": {},
   "outputs": [
    {
     "data": {
      "image/png": "[encoded data removed]",
      "text/plain": [
       "<Figure size 216x144 with 1 Axes>"
      ]
     },
     "metadata": {},
     "output_type": "display_data"
    }
   ],
   "source": [
    "def script_plt_zero():\n",
    "    phi_s0 = np.zeros((1, Num_states))\n",
    "    \n",
    "    plt.figure(figsize=(3,2))\n",
    "    plt.imshow(phi_s0, \n",
    "               cmap='cividis',\n",
    "               vmin=0.0, vmax=1.0)\n",
    "    plt.xticks([])\n",
    "    plt.yticks([])\n",
    "    plt.show()\n",
    "script_plt_zero()"
   ]
  },
  {
   "cell_type": "code",
   "execution_count": null,
   "id": "2ba68167",
   "metadata": {},
   "outputs": [],
   "source": []
  }
 ],
 "metadata": {
  "kernelspec": {
   "display_name": "Python 3",
   "language": "python",
   "name": "python3"
  },
  "language_info": {
   "codemirror_mode": {
    "name": "ipython",
    "version": 3
   },
   "file_extension": ".py",
   "mimetype": "text/x-python",
   "name": "python",
   "nbconvert_exporter": "python",
   "pygments_lexer": "ipython3",
   "version": "3.9.1"
  }
 },
 "nbformat": 4,
 "nbformat_minor": 5
}
